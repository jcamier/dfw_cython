{
 "cells": [
  {
   "cell_type": "markdown",
   "metadata": {},
   "source": [
    "<h1>How to <i style=\"color:red;\">OPTIMIZE</i> Python Code using Cython!</h1>\n",
    "\n",
    "## <i>by Jack Camier, Python Developer</i>\n",
    "\n",
    "## Inspiration for this talk came from several sources:\n",
    "\n",
    "## Pythonprogramming.net\n",
    "https://pythonprogramming.net/\n",
    "https://www.youtube.com/watch?v=mXuEoqK4bEc\n",
    "\n",
    "## - Stefan Behnel, core Cython developer\n",
    "https://www.youtube.com/watch?v=lxh4lsvEBhI\n",
    "\n",
    "## - Stefan Behnel, Fast Async Code with Cython and AsyncIO\n",
    "https://dev.tube/video/-hk6nEQEMLs\n",
    "\n",
    "## - Cython documentation\n",
    "https://cython.readthedocs.io/en/latest/src/quickstart/overview.html\n",
    "\n",
    "<hr>\n",
    "\n",
    "## <i>Don't confuse this talk with CPython, which is the C written implemention of Python commonly used</i>\n",
    "\n",
    "<hr>"
   ]
  },
  {
   "cell_type": "markdown",
   "metadata": {},
   "source": [
    "## One of the major criticisms of developers outside of Python, is that it is too slow compared to C or C++"
   ]
  },
  {
   "cell_type": "code",
   "execution_count": null,
   "metadata": {},
   "outputs": [],
   "source": [
    "%%HTML\n",
    "<img src=\"turtle_slow.jpg\" width=\"400\"/>"
   ]
  },
  {
   "cell_type": "markdown",
   "metadata": {},
   "source": [
    "## With Cython, that argument is basically <i>null</i> and <i>void</i> because we can take key sections of the code and have it compile as C extensions \n",
    "## Also, in most cases, users can't recognize the difference between milliseconds\n",
    "## Where the difference is most seen is in large mathematical computations (data science, etc.)\n",
    "## Other options besides Cython are multiprocessing for CPU-bound tasks or Asyncio for I/O bound processes.\n",
    "https://docs.python.org/2/library/multiprocessing.html\n",
    "\n",
    "https://docs.python.org/3/library/asyncio.html\n",
    "\n",
    "# In most cases, we get the best of both worlds in Cython. We get the speed of C with very little refactoring (if needed) and can still write Pythonic code\n",
    "<h1 style=\"color:blue;\"><i>You can have your cake and eat it too!</i></h1>"
   ]
  },
  {
   "cell_type": "code",
   "execution_count": null,
   "metadata": {},
   "outputs": [],
   "source": [
    "%%HTML\n",
    "<img src=\"grfld_eating_cake.jpg\" width=\"400\"/>"
   ]
  },
  {
   "cell_type": "markdown",
   "metadata": {},
   "source": [
    "## How does this work?"
   ]
  },
  {
   "cell_type": "markdown",
   "metadata": {},
   "source": [
    "## Python is a dynamically typed language, meanining you don't have to declare the data type of your variables unlike most statically typed languages such as Java, Scala, C, C++, C#, etc.\n",
    "## Here is an example of a simple function `multiplyTwoNumbers` written in C\n",
    "## In each of these situations we need to declare the data types of the variables as well as the return values"
   ]
  },
  {
   "cell_type": "raw",
   "metadata": {},
   "source": [
    "#include <stdio.h>\n",
    "#include <stdlib.h>\n",
    "\n",
    "// Functions\n",
    "\n",
    "void multiplyTwoNumbers (int x, int y) {\n",
    "\tint result = x * y;\n",
    "\tprintf(\"The product of %d multiplied by %d is: %d\\n\", x, y, result);\n",
    "}\n",
    "\n",
    "\n",
    "int main() {\n",
    "\tmultiplyTwoNumbers(10, 20);\n",
    "\tmultiplyTwoNumbers(20, 30);\n",
    "\tmultiplyTwoNumbers(50, 2);\n",
    "\n",
    "\treturn 0;\n",
    "\n",
    "}"
   ]
  },
  {
   "cell_type": "markdown",
   "metadata": {},
   "source": [
    "## Here is the implementation in Python (dynamically typed):"
   ]
  },
  {
   "cell_type": "code",
   "execution_count": null,
   "metadata": {},
   "outputs": [],
   "source": [
    "def multiply_two_numbers (x, y):\n",
    "    result = x*y\n",
    "    print(f\"The product of {x} multiplied by {y} is: {result}\\n\")\n",
    "\n",
    "multiply_two_numbers(10, 20)\n",
    "multiply_two_numbers(20, 30)\n",
    "multiply_two_numbers(50, 2)"
   ]
  },
  {
   "cell_type": "markdown",
   "metadata": {},
   "source": [
    "## It is obviously a lot simpler. No compiling, no declaration of variables, no brackets { }... \n",
    "## This is why we love Python!!! \n",
    "## We can just focus on writing great code, quickly.\n",
    "<hr>"
   ]
  },
  {
   "cell_type": "markdown",
   "metadata": {},
   "source": [
    "## Under the hood in Cython... \"the source code gets translated into optimized C/C++ code and compiled as Python extension modules. This allows for both very fast program execution and tight integration with external C libraries, while keeping up the high programmer productivity for which the Python language is well known.\"\n",
    "https://cython.readthedocs.io/en/latest/src/quickstart/overview.html"
   ]
  },
  {
   "cell_type": "markdown",
   "metadata": {},
   "source": [
    "# First steps:\n",
    "## To be able to run Cython, you need a C compiler:\n",
    "## gcc for Linux\n",
    "## MinGW for Windows\n",
    "## clang - Apple’s XCode for Mac"
   ]
  },
  {
   "cell_type": "markdown",
   "metadata": {},
   "source": [
    "http://docs.cython.org/en/latest/src/quickstart/install.html"
   ]
  },
  {
   "cell_type": "markdown",
   "metadata": {},
   "source": [
    "# Step two:\n",
    "# `pip install Cython`\n",
    "<hr>"
   ]
  },
  {
   "cell_type": "markdown",
   "metadata": {},
   "source": [
    "## You can import Cython's Jupyter extension..."
   ]
  },
  {
   "cell_type": "code",
   "execution_count": null,
   "metadata": {},
   "outputs": [],
   "source": [
    "%load_ext cython"
   ]
  },
  {
   "cell_type": "markdown",
   "metadata": {},
   "source": [
    "## ... or use regular imports"
   ]
  },
  {
   "cell_type": "code",
   "execution_count": null,
   "metadata": {},
   "outputs": [],
   "source": [
    "import sys\n",
    "import time\n",
    "import Cython\n",
    "import numpy as np\n",
    "import timeit\n",
    "import subprocess, os"
   ]
  },
  {
   "cell_type": "code",
   "execution_count": null,
   "metadata": {},
   "outputs": [],
   "source": [
    "print(\"Python %d.%d.%d %s %s\" % sys.version_info)\n",
    "print(\"Cython %s\" % Cython.__version__)\n",
    "print(\"Numpy %s\" % np.__version__)\n",
    "print(subprocess.check_output([os.environ.get('CC', 'cc'), \"--version\"]))"
   ]
  },
  {
   "cell_type": "markdown",
   "metadata": {},
   "source": [
    "# Demo:\n",
    "<hr>"
   ]
  },
  {
   "cell_type": "code",
   "execution_count": null,
   "metadata": {},
   "outputs": [],
   "source": [
    "# Import Python sine function - return the sine of x radians\n",
    "from math import sin\n",
    "sin(7)"
   ]
  },
  {
   "cell_type": "markdown",
   "metadata": {},
   "source": [
    "## Here we are going to pass to the Cython Compiler the Python code and have it compiled to C, using the magic command\n",
    "\n",
    "## `%%cython`"
   ]
  },
  {
   "cell_type": "code",
   "execution_count": null,
   "metadata": {},
   "outputs": [],
   "source": [
    "%%cython\n",
    "from math import sin\n",
    "print(sin(7))"
   ]
  },
  {
   "cell_type": "markdown",
   "metadata": {},
   "source": [
    "## We can also, assign C functions to Python\n",
    "##  For example, `libc.math.sin` ( C ) to `sine_func` ( Python ) "
   ]
  },
  {
   "cell_type": "code",
   "execution_count": null,
   "metadata": {},
   "outputs": [],
   "source": [
    "%%cython\n",
    "cimport libc.math\n",
    "sine_func = libc.math.sin"
   ]
  },
  {
   "cell_type": "markdown",
   "metadata": {},
   "source": [
    "## Now call the C function assigned to `sine_func`"
   ]
  },
  {
   "cell_type": "code",
   "execution_count": null,
   "metadata": {},
   "outputs": [],
   "source": [
    "sine_func(7) "
   ]
  },
  {
   "cell_type": "markdown",
   "metadata": {},
   "source": [
    "## Here is another implementation letting Cython do the C compiling for us. Notice, we are also declaring our data types here.\n",
    "## A double in C is similar to a Python float but allows for more decimal places - double in precision (15 digits in total vs. seven digits of a C float)"
   ]
  },
  {
   "cell_type": "code",
   "execution_count": null,
   "metadata": {},
   "outputs": [],
   "source": [
    "%%cython\n",
    "cimport libc.math\n",
    "\n",
    "def square_sin(double x):\n",
    "    cdef double x_square = x*x\n",
    "    return libc.math.sin(x_square)"
   ]
  },
  {
   "cell_type": "code",
   "execution_count": null,
   "metadata": {},
   "outputs": [],
   "source": [
    "square_sin(7)"
   ]
  },
  {
   "cell_type": "markdown",
   "metadata": {},
   "source": [
    "## Okay let's see an example of the speed in which we can improve a function in Cython\n",
    "## Here is a simple Python function"
   ]
  },
  {
   "cell_type": "code",
   "execution_count": null,
   "metadata": {},
   "outputs": [],
   "source": [
    "def test_speed(x):\n",
    "    y = 0\n",
    "    for i in range(x):\n",
    "        y += i\n",
    "    return y\n",
    "\n",
    "test_speed(5)"
   ]
  },
  {
   "cell_type": "markdown",
   "metadata": {},
   "source": [
    "## Let's use timeit and do a 100 loops of the above function"
   ]
  },
  {
   "cell_type": "code",
   "execution_count": null,
   "metadata": {},
   "outputs": [],
   "source": [
    "python_time = timeit.timeit('test_speed(5)', setup='from __main__ import test_speed', number=100)\n",
    "print(f\"It took {python_time} seconds in Python\")"
   ]
  },
  {
   "cell_type": "markdown",
   "metadata": {},
   "source": [
    "## Okay, how about 1,000,000 iterations..."
   ]
  },
  {
   "cell_type": "code",
   "execution_count": null,
   "metadata": {},
   "outputs": [],
   "source": [
    "%%timeit\n",
    "test_speed(5)"
   ]
  },
  {
   "cell_type": "markdown",
   "metadata": {},
   "source": [
    "## Let's do this same function using Cython"
   ]
  },
  {
   "cell_type": "code",
   "execution_count": null,
   "metadata": {},
   "outputs": [],
   "source": [
    "%%cython\n",
    "def test_speed_cy(x):\n",
    "    y = 0\n",
    "    for i in range(x):\n",
    "        y += i\n",
    "    return y"
   ]
  },
  {
   "cell_type": "code",
   "execution_count": null,
   "metadata": {},
   "outputs": [],
   "source": [
    "python_time_cy = timeit.timeit('test_speed_cy(5)', setup='from __main__ import test_speed_cy', number=100)\n",
    "print(f\"It took {python_time_cy} seconds with Cython\")"
   ]
  },
  {
   "cell_type": "markdown",
   "metadata": {},
   "source": [
    "## Now, let's use `-o` cli argument to capture results to jupyter magic functions"
   ]
  },
  {
   "cell_type": "code",
   "execution_count": null,
   "metadata": {},
   "outputs": [],
   "source": [
    "timeit_result = %timeit -o test_speed(5)\n",
    "timeit_result_cy = %timeit -o test_speed_cy(5)"
   ]
  },
  {
   "cell_type": "code",
   "execution_count": null,
   "metadata": {},
   "outputs": [],
   "source": [
    "times_faster = round(timeit_result.average/timeit_result_cy.average, 2)\n",
    "print(f\"Cython is {times_faster}x faster\")"
   ]
  },
  {
   "cell_type": "markdown",
   "metadata": {},
   "source": [
    "## Use `-a` cli argument to Cython magic function to see how it is compiled. Also, adding type declarations to improve the speed since the PVM doesn't need to iterate to check what data type is each variable as it is interpreted"
   ]
  },
  {
   "cell_type": "code",
   "execution_count": null,
   "metadata": {},
   "outputs": [],
   "source": [
    "%%cython -a\n",
    "def test_speed_cy_decl(int x):\n",
    "    cdef int i, y\n",
    "    y = 0\n",
    "    for i in range(x):\n",
    "        y += i\n",
    "    return y"
   ]
  },
  {
   "cell_type": "code",
   "execution_count": null,
   "metadata": {},
   "outputs": [],
   "source": [
    "timeit_result_cy_decl = %timeit -o test_speed_cy_decl(5)"
   ]
  },
  {
   "cell_type": "code",
   "execution_count": null,
   "metadata": {},
   "outputs": [],
   "source": [
    "times_faster_decl = round(timeit_result.average/timeit_result_cy_decl.average, 2)\n",
    "print(f\"Cython with type declaration is {times_faster_decl}x faster\")"
   ]
  },
  {
   "cell_type": "markdown",
   "metadata": {},
   "source": [
    "## Let's look another example"
   ]
  },
  {
   "cell_type": "code",
   "execution_count": null,
   "metadata": {},
   "outputs": [],
   "source": [
    "def fibonacci_py(n):\n",
    "    a, b = 0, 1\n",
    "    for _ in range(1, n):\n",
    "        a, b = b, a + b\n",
    "    return b"
   ]
  },
  {
   "cell_type": "code",
   "execution_count": null,
   "metadata": {},
   "outputs": [],
   "source": [
    "timeit_fib = %timeit -o fibonacci_py(70) "
   ]
  },
  {
   "cell_type": "code",
   "execution_count": null,
   "metadata": {},
   "outputs": [],
   "source": [
    "%%cython\n",
    "def fibonacci_cy(n):\n",
    "    cdef int _\n",
    "    cdef int a = 0, b = 1\n",
    "    for _ in range(1, n):\n",
    "        a, b = b, a + b\n",
    "    return b"
   ]
  },
  {
   "cell_type": "code",
   "execution_count": null,
   "metadata": {},
   "outputs": [],
   "source": [
    "timeit_fib_cy = %timeit -o fibonacci_cy(70)"
   ]
  },
  {
   "cell_type": "code",
   "execution_count": null,
   "metadata": {},
   "outputs": [],
   "source": [
    "times_faster_fib = round(timeit_fib.average/timeit_fib_cy.average, 2)\n",
    "print(f\"Cython is {times_faster_fib}x faster\")"
   ]
  },
  {
   "cell_type": "markdown",
   "metadata": {},
   "source": [
    "## Wow that is a great speed improvement!\n",
    "<hr>"
   ]
  },
  {
   "cell_type": "markdown",
   "metadata": {},
   "source": [
    "## To use Cython on your local machine, here are the following steps:\n",
    "## 1) Save the file of you source code with the extension .pyx \n",
    "### - For example: `fibonacci.pyx`\n",
    "## 2) Create the setup.py which is like a python Makefile\n",
    "### - use the following syntax below: "
   ]
  },
  {
   "cell_type": "raw",
   "metadata": {},
   "source": [
    "from distutils.core import setup\n",
    "from Cython.Build import cythonize\n",
    "\n",
    "setup(\n",
    "    ext_modules = cythonize(\"fibonacci.pyx\")  # change the filename to match your .pyx file\n",
    ")"
   ]
  },
  {
   "cell_type": "markdown",
   "metadata": {},
   "source": [
    "## To build your Cython file use the commandline argument:\n",
    "## `python setup.py build_ext --inplace`\n",
    "## This should create a file in your local directory called your_filename.so in Unix/Mac or your_filename.pyd for Windows\n",
    "## Also, it will create a file with a .c extension for the compiled file\n",
    "## Then you can import the module. I have already done these steps, so I will go ahead and import the module."
   ]
  },
  {
   "cell_type": "code",
   "execution_count": null,
   "metadata": {},
   "outputs": [],
   "source": [
    "import fibonacci"
   ]
  },
  {
   "cell_type": "markdown",
   "metadata": {},
   "source": [
    "## <i>Cython Static Type Declarations:</i>"
   ]
  },
  {
   "cell_type": "markdown",
   "metadata": {},
   "source": [
    "## `cdef` is used for Cython functions and variables that are intended to be pure ‘C’. All types must be declared.\n",
    "## `cdef` declared types are not visible to Python code that imports the module since it is compiled to C."
   ]
  },
  {
   "cell_type": "markdown",
   "metadata": {},
   "source": [
    "## `cpdef` types combine both `def` and `cdef` by creating two functions; a `cdef` for C types and a `def` for Python types. This creates early bindings (mappings to C) so that `cpdef` functioTo use this to build your Cython file use the commandline options:To use this to build your Cython file use the commandline options:To use this to build your Cython file use the commandline options:ns may be as fast as possible when using C fundamental types (by using cdef). `cpdef` functions use dynamic binding when passed Python objects and this might run much slower, perhaps as slow as `def` declared functions. Also, they add overhead to the processing of the code.\n",
    "https://notes-on-cython.readthedocs.io/en/latest/function_declarations.html"
   ]
  },
  {
   "cell_type": "markdown",
   "metadata": {},
   "source": [
    "## I am not a Cython expert, but because of these logic rules, I tend to just use `cdef` as I am trying to achieve speed optimizations when I can."
   ]
  },
  {
   "cell_type": "markdown",
   "metadata": {},
   "source": [
    "## <i style=\"color:red;\">Also, just adding `cdef` doesn't necessarily speed up your code every time it is used! So, use it when it makes sense </i>"
   ]
  },
  {
   "cell_type": "markdown",
   "metadata": {},
   "source": [
    "# Another use case example:"
   ]
  },
  {
   "cell_type": "markdown",
   "metadata": {},
   "source": [
    "## Optimizing Web Frameworks"
   ]
  },
  {
   "cell_type": "code",
   "execution_count": null,
   "metadata": {},
   "outputs": [],
   "source": [
    "import asyncio"
   ]
  },
  {
   "cell_type": "markdown",
   "metadata": {},
   "source": [
    "## <i>asyncio is a library to write concurrent code using the async/await syntax.</i>\n",
    "https://docs.python.org/3/library/asyncio.html"
   ]
  },
  {
   "cell_type": "code",
   "execution_count": null,
   "metadata": {},
   "outputs": [],
   "source": [
    "async def factorial(name, number):\n",
    "    f = 1\n",
    "    for i in range(2, number + 1):\n",
    "        print(f\"Task {name}: Compute factorial({i})...\")\n",
    "        await asyncio.sleep(1)\n",
    "        f *= i\n",
    "    print(f\"Task {name}: factorial({number}) = {f}\")\n",
    "    \n",
    "# this code is needed to run in Jupyter notebook    \n",
    "loop = asyncio.get_event_loop() \n",
    "\n",
    "async def main():\n",
    "    s = time.perf_counter_ns()\n",
    "    # Schedule three calls *concurrently*:\n",
    "    await asyncio.gather(\n",
    "        factorial(\"A\", 2),\n",
    "        factorial(\"B\", 3),\n",
    "        factorial(\"C\", 4),\n",
    "    )\n",
    "    elapsed_sec = (time.perf_counter_ns() - s)/1000000000\n",
    "    elapsed_mil = (time.perf_counter_ns() - s)/1000000\n",
    "    print(f\"Async executed in {elapsed_sec:0.2f} seconds or {elapsed_mil:0.2f} ms.\")\n",
    "    \n",
    "loop.create_task(main())"
   ]
  },
  {
   "cell_type": "code",
   "execution_count": null,
   "metadata": {},
   "outputs": [],
   "source": [
    "%%cython\n",
    "import asyncio\n",
    "import time\n",
    "\n",
    "async def factorial(name, int number):\n",
    "    cdef int f = 1\n",
    "    cdef int i\n",
    "    for i in range(2, number + 1):\n",
    "        print(f\"Task {name}: Compute factorial({i})...\")\n",
    "        await asyncio.sleep(1)\n",
    "        f *= i\n",
    "    print(f\"Task {name}: factorial({number}) = {f}\")\n",
    "    \n",
    "# this code is needed to run in Jupyter notebook    \n",
    "loop = asyncio.get_event_loop() \n",
    "\n",
    "async def main():\n",
    "    cdef double s = time.perf_counter_ns()\n",
    "    # Schedule three calls *concurrently*:\n",
    "    await asyncio.gather(\n",
    "        factorial(\"A\", 2),\n",
    "        factorial(\"B\", 3),\n",
    "        factorial(\"C\", 4),\n",
    "    )\n",
    "    cdef double elapsed_sec = (time.perf_counter_ns() - s)/1000000000\n",
    "    cdef double elapsed_mil = (time.perf_counter_ns() - s)/1000000\n",
    "    print(f\"Async executed in {elapsed_sec:0.2f} seconds or {elapsed_mil:0.2f} ms.\")\n",
    "\n",
    "loop.create_task(main())"
   ]
  },
  {
   "cell_type": "markdown",
   "metadata": {},
   "source": [
    "## In this situation I didn't see any improvement since Asyncio is an I/O bound task rather than CPU. Maybe with some more time I could have improved it slightly but it will be limited with the time duration of external tasks. \n",
    "## As mentioned earlier, Cython seems best for CPU computation improvements.\n",
    "## The link for this talk is found at:\n",
    "\n",
    "https://github.com/jcamier/dfw_cython\n",
    "\n",
    "## Thank you"
   ]
  }
 ],
 "metadata": {
  "kernelspec": {
   "display_name": "Python 3",
   "language": "python",
   "name": "python3"
  },
  "language_info": {
   "codemirror_mode": {
    "name": "ipython",
    "version": 3
   },
   "file_extension": ".py",
   "mimetype": "text/x-python",
   "name": "python",
   "nbconvert_exporter": "python",
   "pygments_lexer": "ipython3",
   "version": "3.7.4"
  }
 },
 "nbformat": 4,
 "nbformat_minor": 2
}
